{
 "cells": [
  {
   "cell_type": "code",
   "execution_count": 1,
   "id": "e6691e68",
   "metadata": {},
   "outputs": [],
   "source": [
    "import pandas as pd\n",
    "import numpy as np\n",
    "from numpy import loadtxt\n",
    "from IPython.display import display\n",
    "import networkx as nx\n",
    "import matplotlib.pyplot as plt\n",
    "import subprocess as sub\n",
    "import matplotlib.pyplot as plt\n",
    "from pathlib import Path\n",
    "import os"
   ]
  },
  {
   "cell_type": "code",
   "execution_count": 2,
   "id": "06c04bdd",
   "metadata": {},
   "outputs": [],
   "source": [
    "# First networkx library is imported \n",
    "# along with matplotlib\n",
    "\n",
    "  \n",
    "# Defining a Class\n",
    "class GraphVisualization:\n",
    "   \n",
    "    def __init__(self):\n",
    "          \n",
    "        # visual is a list which stores all \n",
    "        # the set of edges that constitutes a\n",
    "        # graph\n",
    "        self.visual = []\n",
    "          \n",
    "    # addEdge function inputs the vertices of an\n",
    "    # edge and appends it to the visual list\n",
    "    def addEdge(self, a, b):\n",
    "        temp = [a, b]\n",
    "        self.visual.append(temp)\n",
    "          \n",
    "    # In visualize function G is an object of\n",
    "    # class Graph given by networkx G.add_edges_from(visual)\n",
    "    # creates a graph with a given list\n",
    "    # nx.draw_networkx(G) - plots the graph\n",
    "    # plt.show() - displays the graph\n",
    "    def visualize(self):\n",
    "        G = nx.DiGraph()\n",
    "        G.add_edges_from(self.visual)\n",
    "        nx.draw_networkx(G)\n",
    "        plt.show()\n",
    "  \n",
    "# Driver code\n",
    "def drawGraph(test_input):\n",
    "    G = GraphVisualization()\n",
    "    for index, row in test_input.iterrows():\n",
    "        G.addEdge(row[\"i\"],row[\"j\"])\n",
    "    G.visualize()"
   ]
  },
  {
   "cell_type": "code",
   "execution_count": 3,
   "id": "af8bbb58",
   "metadata": {},
   "outputs": [],
   "source": [
    "class Test:\n",
    "    def __init__(self, test, catpeta):\n",
    "        self.test = test\n",
    "        self.carpeta = carpeta\n",
    "        \n",
    "        self.filepath_input = \"{}/{}.txt\".format(carpeta, test)\n",
    "        self.cant_pags = int(pd.read_csv(self.filepath_input, header=None)[0][0])\n",
    "        self.cant_links = int(pd.read_csv(self.filepath_input, header=None)[0][1])\n",
    "        self.test_input = pd.read_csv(self.filepath_input, header=None, skiprows=2, sep=' ', names=[\"i\", \"j\"])\n",
    "    \n",
    "    def postprocesar(self):\n",
    "        self.filepath_output_exp = self.filepath_input + \".own.out\"\n",
    "        self.p_exp = pd.read_csv(self.filepath_output_exp, header=None)[0][0]\n",
    "        self.test_output_exp = np.genfromtxt(self.filepath_output_exp, delimiter=' ')\n",
    "    \n",
    "    def imprimir(self):\n",
    "        print(\"Este es el test para: \", self.test)\n",
    "        print(\"cantidad de páginas: \", self.cant_pags, \"cantidad de links: \", self.cant_links, \"valor de p nuestro: \", self.p_exp)\n",
    "        #print(\"test input: \")\n",
    "        #display(self.test_input)\n",
    "        print(\"test output experimentacion: \", self.test_output_exp[1:])\n",
    "        drawGraph(self.test_input)\n",
    "        "
   ]
  },
  {
   "cell_type": "code",
   "execution_count": 4,
   "id": "da77b8e3",
   "metadata": {},
   "outputs": [],
   "source": [
    "class TestCatedra(Test):\n",
    "    def __init__(self, test, carpeta):\n",
    "        Test.__init__(self, test, carpeta)\n",
    "        self.filepath_output_catedra = self.filepath_input + \".out\"\n",
    "        self.p_catedra = pd.read_csv(self.filepath_output_catedra, header=None)[0][0]\n",
    "        self.test_output_catedra = np.genfromtxt(self.filepath_output_catedra, delimiter=' ')\n",
    "    \n",
    "    def imprimir(self):\n",
    "        print(\"Este es el test para: \", self.test)\n",
    "        print(\"cantidad de páginas: \", self.cant_pags, \"cantidad de links: \", self.cant_links, \"valor de p de la cátedra: \", self.p_catedra)\n",
    "        print(\"test output catedra: \", self.test_output_catedra)\n",
    "        print(\"test output experimentacion: \", self.test_output_exp[1:])\n",
    "        #drawGraph(self.test_input)"
   ]
  },
  {
   "cell_type": "code",
   "execution_count": 5,
   "id": "17a00b46",
   "metadata": {},
   "outputs": [],
   "source": [
    "def compilar():\n",
    "    result = sub.run(\"g++ -o tp1 -O3 main.cpp model/LILMatrix.cpp\", shell=True, capture_output=True)\n",
    "    print(\"stdout:\", result.stdout)"
   ]
  },
  {
   "cell_type": "code",
   "execution_count": 6,
   "id": "2a0a46ec",
   "metadata": {},
   "outputs": [],
   "source": [
    "def correrTestsCatedra(tests_catedra, carpeta, resultados):\n",
    "    for test in tests_catedra:\n",
    "        test_obj = TestCatedra(test, carpeta)\n",
    "        print(\"Ejecutando: \", \"./tp1 {} {}\".format(test_obj.filepath_input,test_obj.p_catedra))\n",
    "        result = sub.run(\"./tp1 {} {}\".format(test_obj.filepath_input,test_obj.p_catedra), shell=True, capture_output=True)\n",
    "        test_obj.postprocesar()\n",
    "        resultados.append(test_obj)\n",
    "        #print(\"stdout:\", result.stdout)\n",
    "\n",
    "def correrTestsExperimentacion(tests_exp, ps_exp, carpeta, resultados):\n",
    "    for test, p_exp in zip(tests_exp, ps_exp):\n",
    "        test_obj = Test(test, carpeta)\n",
    "        test_obj.p_exp = p_exp\n",
    "        print(\"Ejecutando: \", \"./tp1 {} {}\".format(test_obj.filepath_input,test_obj.p_exp))\n",
    "        result = sub.run(\"./tp1 {} {}\".format(test_obj.filepath_input,test_obj.p_exp), shell=True, capture_output=True)\n",
    "        test_obj.postprocesar()\n",
    "        resultados.append(test_obj)\n",
    "        #print(\"stdout:\", result.stdout)"
   ]
  },
  {
   "cell_type": "code",
   "execution_count": 7,
   "id": "76c5fdd2",
   "metadata": {},
   "outputs": [
    {
     "name": "stdout",
     "output_type": "stream",
     "text": [
      "stdout: b''\n"
     ]
    }
   ],
   "source": [
    "compilar()"
   ]
  },
  {
   "cell_type": "code",
   "execution_count": 8,
   "id": "ea376969",
   "metadata": {},
   "outputs": [
    {
     "name": "stdout",
     "output_type": "stream",
     "text": [
      "Ejecutando:  ./tp1 datasets/test_15_segundos.txt 0.9\n",
      "Ejecutando:  ./tp1 datasets/test_30_segundos.txt 0.8\n",
      "Ejecutando:  ./tp1 datasets/test_aleatorio_desordenado.txt 0.76\n",
      "Ejecutando:  ./tp1 datasets/test_completo.txt 0.5\n",
      "Ejecutando:  ./tp1 datasets/test_sin_links.txt 0.64\n",
      "Ejecutando:  ./tp1 datasets/test_trivial.txt 0.3\n",
      "Este es el test para:  test_15_segundos\n",
      "cantidad de páginas:  2000 cantidad de links:  12000 valor de p de la cátedra:  0.9\n",
      "test output catedra:  [9.00000e-01 3.58757e-04 6.44485e-04 ... 3.01669e-04 3.64583e-04\n",
      " 5.45525e-04]\n",
      "test output experimentacion:  [0.0003503  0.0006412  0.00030057 ... 0.00029014 0.00035207 0.00052958]\n",
      "Este es el test para:  test_30_segundos\n",
      "cantidad de páginas:  3000 cantidad de links:  18000 valor de p de la cátedra:  0.8\n",
      "test output catedra:  [8.00000e-01 2.13618e-04 2.68631e-04 ... 3.42153e-04 3.47546e-04\n",
      " 2.37403e-04]\n",
      "test output experimentacion:  [0.00020995 0.00026172 0.00029662 ... 0.00033168 0.00034188 0.00023146]\n",
      "Este es el test para:  test_aleatorio_desordenado\n",
      "cantidad de páginas:  5 cantidad de links:  12 valor de p de la cátedra:  0.76\n",
      "test output catedra:  [0.76      0.218304  0.0895884 0.200196  0.218304  0.273608 ]\n",
      "test output experimentacion:  [0.218304  0.0895884 0.200196  0.218304  0.273608 ]\n",
      "Este es el test para:  test_completo\n",
      "cantidad de páginas:  5 cantidad de links:  20 valor de p de la cátedra:  0.5\n",
      "test output catedra:  [0.5 0.2 0.2 0.2 0.2 0.2]\n",
      "test output experimentacion:  [0.2 0.2 0.2 0.2 0.2]\n",
      "Este es el test para:  test_sin_links\n",
      "cantidad de páginas:  5 cantidad de links:  0 valor de p de la cátedra:  0.64\n",
      "test output catedra:  [0.64 0.2  0.2  0.2  0.2  0.2 ]\n",
      "test output experimentacion:  [0.2 0.2 0.2 0.2 0.2]\n",
      "Este es el test para:  test_trivial\n",
      "cantidad de páginas:  1 cantidad de links:  0 valor de p de la cátedra:  0.3\n",
      "test output catedra:  [0.3 1. ]\n",
      "test output experimentacion:  [1.]\n"
     ]
    }
   ],
   "source": [
    "# Corremos todos los tests, los nuestros y los de la cátedra\n",
    "\n",
    "carpeta = \"datasets\"\n",
    "tests_catedra = [\"test_15_segundos\", \"test_30_segundos\", \"test_aleatorio_desordenado\", \"test_completo\", \"test_sin_links\", \"test_trivial\"]\n",
    "#tests_exp = [\"test_estrella_5\", \"test_estrella_10\", \"test_estrella_invertida_5\", \"test_estrella_invertida_10\"]\n",
    "#ps_exp = [0.76, 0.8, 0.8, 0.8, 0.5]\n",
    "\n",
    "resultados_todos = []\n",
    "\n",
    "correrTestsCatedra(tests_catedra, carpeta, resultados_todos)\n",
    "#correrTestsExperimentacion(tests_exp, ps_exp, carpeta, resultados_todos)\n",
    "\n",
    "for test in resultados_todos:\n",
    "    test.imprimir()"
   ]
  },
  {
   "cell_type": "code",
   "execution_count": 9,
   "id": "1e85b572",
   "metadata": {},
   "outputs": [
    {
     "name": "stdout",
     "output_type": "stream",
     "text": [
      "test_15_segundos 0.050873281599999966\n",
      "test_30_segundos 0.043790552599999887\n",
      "test_aleatorio_desordenado 0.0\n",
      "test_completo 0.0\n",
      "test_sin_links 0.0\n",
      "test_trivial 0.0\n"
     ]
    }
   ],
   "source": [
    "# Esto printea error absoluto en comparación con los tests de la cátedra\n",
    "\n",
    "for test in resultados_todos:\n",
    "    if(hasattr(test, 'filepath_output_catedra')):\n",
    "        err_abs = []\n",
    "        for c, e in zip(test.test_output_catedra, test.test_output_exp):\n",
    "            \n",
    "\n",
    "            #format_float = \"{:.30f}\".format(abs(c-e))\n",
    "            #print(c, e)\n",
    "            err_abs.append(abs(c-e))\n",
    "            \n",
    "        test.err_abs = err_abs\n",
    "        print(test.test, sum(err_abs))"
   ]
  },
  {
   "cell_type": "code",
   "execution_count": 10,
   "id": "a502b37b",
   "metadata": {},
   "outputs": [
    {
     "name": "stdout",
     "output_type": "stream",
     "text": [
      "test_15_segundos\n",
      "Ax-x [1.84063318e-06 1.84002639e-06 1.84057925e-06 ... 1.85846068e-06\n",
      " 1.84061889e-06 1.84027889e-06]\n",
      "test_30_segundos\n",
      "Ax-x [1.51302704e-06 1.51262037e-06 1.51339371e-06 ... 1.51340323e-06\n",
      " 1.51341371e-06 1.51346704e-06]\n",
      "test_aleatorio_desordenado\n",
      "Ax-x [1.632e-07 3.520e-08 2.048e-07 1.632e-07 1.568e-07]\n",
      "test_completo\n",
      "Ax-x [2.77555756e-17 2.77555756e-17 2.77555756e-17 2.77555756e-17\n",
      " 0.00000000e+00]\n",
      "test_sin_links\n",
      "Ax-x [2.77555756e-17 2.77555756e-17 2.77555756e-17 2.77555756e-17\n",
      " 2.77555756e-17]\n",
      "test_trivial\n",
      "Ax-x [0.]\n"
     ]
    }
   ],
   "source": [
    "# Calculamos |Ax - x| para todos los tests\n",
    "\n",
    "def calcularA(i,j):\n",
    "    if(C[j]!=0):\n",
    "        return ((1-test.p_exp)/test.cant_pags) + ((test.p_exp*W[i][j])/C[j])\n",
    "    else:\n",
    "        return 1/test.cant_pags\n",
    "\n",
    "Ax = []\n",
    "    \n",
    "for test in resultados_todos:\n",
    "    #if(hasattr(test, 'filepath_output_catedra')):\n",
    "        print(test.test)\n",
    "        W = np.zeros((test.cant_pags, test.cant_pags))\n",
    "        for index, row in test.test_input.iterrows():\n",
    "            W[row[\"j\"]-1][row[\"i\"]-1]=1\n",
    "        #print(\"W: \" , W)\n",
    "        \n",
    "        C = np.sum(W, axis=0)  # axis=1 says \"get the sum along the columns\"\n",
    "        #print(\"C: \", C)\n",
    "        \n",
    "        A = np.zeros((test.cant_pags, test.cant_pags))\n",
    "        for i in range(test.cant_pags):\n",
    "            for j in range(test.cant_pags):\n",
    "                A[i][j] = calcularA(i,j)\n",
    "        #print(\"A: \", A)\n",
    "        X = test.test_output_exp[1:]\n",
    "        #print(\"X: \", X)\n",
    "        Ax.append((abs((A@X)- X)).mean())\n",
    "        print(\"Ax-x\", abs((A@X)- X))\n"
   ]
  },
  {
   "cell_type": "code",
   "execution_count": 11,
   "id": "2c69baed",
   "metadata": {},
   "outputs": [
    {
     "data": {
      "text/plain": [
       "0"
      ]
     },
     "execution_count": 11,
     "metadata": {},
     "output_type": "execute_result"
    }
   ],
   "source": [
    "# Limpiador de outputs de tests, corra bajo su propio riesgo\n",
    "root = Path(\".\")\n",
    "os.system(\"rm -rf datasets/*.txt.own.out\")\n",
    "os.system(\"rm -rf tp1\")"
   ]
  },
  {
   "cell_type": "code",
   "execution_count": null,
   "id": "d5fda93f",
   "metadata": {},
   "outputs": [],
   "source": []
  }
 ],
 "metadata": {
  "kernelspec": {
   "display_name": "Python 3",
   "language": "python",
   "name": "python3"
  },
  "language_info": {
   "codemirror_mode": {
    "name": "ipython",
    "version": 3
   },
   "file_extension": ".py",
   "mimetype": "text/x-python",
   "name": "python",
   "nbconvert_exporter": "python",
   "pygments_lexer": "ipython3",
   "version": "3.8.10"
  }
 },
 "nbformat": 4,
 "nbformat_minor": 5
}
